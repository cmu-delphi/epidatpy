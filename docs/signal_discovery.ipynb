{
 "cells": [
  {
   "cell_type": "markdown",
   "metadata": {},
   "source": [
    "# Finding data sources and signals of interest\n",
    "\n",
    "The Epidata API includes numerous data streams -- medical claims data, cases and deaths,\n",
    "mobility, and many others -- covering different geographic regions. This can make it a\n",
    "challenge to find the data stream that you are most interested in.\n",
    "\n",
    "## Using the documentation\n",
    "\n",
    "The Epidata documentation lists all the data sources and signals available\n",
    "through the API for\n",
    "[COVID-19](https://cmu-delphi.github.io/delphi-epidata/api/covidcast_signals.html) and\n",
    "for [other diseases](https://cmu-delphi.github.io/delphi-epidata/api/README.html#source-specific-parameters).\n",
    "The site also includes a search tool if you have a keyword (e.g. \"Taiwan\") in mind.\n",
    "\n",
    "## Epidata data sources\n",
    "\n",
    "The parameters available for each source data are documented in each linked source-specific API page. A dynamically\n",
    "generated list of all available data sources can be found below:"
   ]
  },
  {
   "cell_type": "code",
   "execution_count": null,
   "metadata": {},
   "outputs": [],
   "source": [
    "import inspect\n",
    "import pandas as pd\n",
    "from IPython.display import HTML\n",
    "from epidatpy._endpoints import AEpiDataEndpoints\n",
    "\n",
    "endpoints = [x for x in inspect.getmembers(AEpiDataEndpoints) if x[0].startswith(\"pvt_\") or x[0].startswith(\"pub_\")]\n",
    "\n",
    "data = {e[0]: e[1].__doc__.split(\"\\n\")[0] if e[1].__doc__ else \"None\" for e in endpoints}\n",
    "\n",
    "table = pd.DataFrame(data.items(), columns = [\"Endpoint\", \"Description\"])\n",
    "HTML(table.to_html(index=False))"
   ]
  },
  {
   "cell_type": "markdown",
   "metadata": {},
   "source": [
    "## Signal metadata\n",
    "\n",
    "The `source_df` property lets us obtain a Pandas DataFrame of metadata describing all\n",
    "data streams which are publically accessible from the COVIDcast API. See the [data source\n",
    "and signals documentation](https://cmu-delphi.github.io/delphi-epidata/api/covidcast_signals.html)\n",
    "for descriptions of the available sources."
   ]
  },
  {
   "cell_type": "code",
   "execution_count": null,
   "metadata": {},
   "outputs": [],
   "source": [
    "from epidatpy import CovidcastEpidata\n",
    "\n",
    "pd.set_option('display.max_columns', None)\n",
    "pd.set_option('display.max_rows', None)\n",
    "pd.set_option('display.width', 1000)\n",
    "\n",
    "epidata = CovidcastEpidata()\n",
    "sources = epidata.source_df\n",
    "\n",
    "print(sources.head())"
   ]
  },
  {
   "cell_type": "markdown",
   "metadata": {},
   "source": [
    "This DataFrame contains the following columns:\n",
    "\n",
    "- `source` - API-internal source name.\n",
    "- `name` - Human-readable source name.\n",
    "- `description` - Description of the signal.\n",
    "- `reference_signal` - Geographic level for which this signal is available, such as county, state, msa, hss, hrr, or nation. Most signals are available at multiple geographic levels and will hence be listed in multiple rows with their own metadata.\n",
    "- `license` - The license.\n",
    "- `dua` - Link to the Data Use Agreement.\n",
    "- `signals` - List of signals available from this data source.\n",
    "\n",
    "The `signal_df` DataFrame can also be used to obtain information about the signals\n",
    "that are available - for example, what time range they are available for,\n",
    "and when they have been updated."
   ]
  },
  {
   "cell_type": "code",
   "execution_count": null,
   "metadata": {},
   "outputs": [],
   "source": [
    "signals = epidata.signal_df\n",
    "\n",
    "print(signals.head())"
   ]
  },
  {
   "cell_type": "markdown",
   "metadata": {},
   "source": [
    "This DataFrame contains one row each available signal, with the following columns:\n",
    "\n",
    "- `source` - Data source name.\n",
    "- `signal` - API-internal signal name.\n",
    "- `name` - Human-readable signal name.\n",
    "- `active` - Whether the signal is currently not updated or not. Signals may be inactive because the sources have become unavailable, other sources have replaced them, or additional work is required for us to continue updating them.\n",
    "- `short_description` - Brief description of the signal.\n",
    "- `description` - Full description of the signal.\n",
    "- `geo_types` - Spatial resolution of the signal (e.g., `county`, `hrr`, `msa`, `dma`, `state`). More detail about all `geo_types` is given in the [geographic coding documentation](https://cmu-delphi.github.io/delphi-epidata/api/covidcast_geography.html).\n",
    "- `time_type` - Temporal resolution of the signal (e.g., day, week; see [date coding details](https://cmu-delphi.github.io/delphi-epidata/api/covidcast_times.html)).\n",
    "- `time_label` - The time label (\"Date\", \"Week\").\n",
    "- `value_label` - The value label (\"Value\", \"Percentage\", \"Visits\", \"Visits per 100,000 people\").\n",
    "- `format` - The value format (\"per100k\", \"percent\", \"fraction\", \"count\", \"raw\").\n",
    "- `category` - The signal category (\"early\", \"public\", \"late\", \"other\").\n",
    "- `high_values_are`- What the higher value of signal indicates (\"good\", \"bad\", \"neutral\").\n",
    "- `is_smoothed` - Whether the signal is smoothed.\n",
    "- `is_weighted` - Whether the signal is weighted.\n",
    "- `is_cumulative` - Whether the signal is cumulative.\n",
    "- `has_stderr` - Whether the signal has `stderr` statistic.\n",
    "- `has_sample_size` - Whether the signal has `sample_size` statistic.\n",
    "- `geo_types` - Geographical levels for which this signal is available.\n"
   ]
  }
 ],
 "metadata": {
  "language_info": {
   "name": "python"
  }
 },
 "nbformat": 4,
 "nbformat_minor": 2
}
